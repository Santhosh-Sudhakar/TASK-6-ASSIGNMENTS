{
 "cells": [
  {
   "cell_type": "code",
   "execution_count": 81,
   "id": "e5655f7c",
   "metadata": {},
   "outputs": [],
   "source": [
    "import pandas as pd\n",
    "import matplotlib.pyplot as plt\n",
    "import numpy as np\n",
    "from sklearn.linear_model import LinearRegression\n",
    "import seaborn as sns\n",
    "import itertools as it"
   ]
  },
  {
   "cell_type": "code",
   "execution_count": 40,
   "id": "0846a97d",
   "metadata": {},
   "outputs": [],
   "source": [
    "df = pd.read_csv(\"car_data.csv\")"
   ]
  },
  {
   "cell_type": "code",
   "execution_count": 41,
   "id": "895cb46c",
   "metadata": {},
   "outputs": [
    {
     "data": {
      "text/html": [
       "<div>\n",
       "<style scoped>\n",
       "    .dataframe tbody tr th:only-of-type {\n",
       "        vertical-align: middle;\n",
       "    }\n",
       "\n",
       "    .dataframe tbody tr th {\n",
       "        vertical-align: top;\n",
       "    }\n",
       "\n",
       "    .dataframe thead th {\n",
       "        text-align: right;\n",
       "    }\n",
       "</style>\n",
       "<table border=\"1\" class=\"dataframe\">\n",
       "  <thead>\n",
       "    <tr style=\"text-align: right;\">\n",
       "      <th></th>\n",
       "      <th>Price</th>\n",
       "      <th>Mileage</th>\n",
       "      <th>Make</th>\n",
       "      <th>Model</th>\n",
       "      <th>Trim</th>\n",
       "      <th>Type</th>\n",
       "      <th>Cylinder</th>\n",
       "      <th>Liter</th>\n",
       "      <th>Doors</th>\n",
       "      <th>Cruise</th>\n",
       "      <th>Sound</th>\n",
       "      <th>Leather</th>\n",
       "    </tr>\n",
       "  </thead>\n",
       "  <tbody>\n",
       "    <tr>\n",
       "      <th>0</th>\n",
       "      <td>17314.103129</td>\n",
       "      <td>8221</td>\n",
       "      <td>Buick</td>\n",
       "      <td>Century</td>\n",
       "      <td>Sedan 4D</td>\n",
       "      <td>Sedan</td>\n",
       "      <td>6</td>\n",
       "      <td>3.1</td>\n",
       "      <td>4</td>\n",
       "      <td>1</td>\n",
       "      <td>1</td>\n",
       "      <td>1</td>\n",
       "    </tr>\n",
       "    <tr>\n",
       "      <th>1</th>\n",
       "      <td>17542.036083</td>\n",
       "      <td>9135</td>\n",
       "      <td>Buick</td>\n",
       "      <td>Century</td>\n",
       "      <td>Sedan 4D</td>\n",
       "      <td>Sedan</td>\n",
       "      <td>6</td>\n",
       "      <td>3.1</td>\n",
       "      <td>4</td>\n",
       "      <td>1</td>\n",
       "      <td>1</td>\n",
       "      <td>0</td>\n",
       "    </tr>\n",
       "    <tr>\n",
       "      <th>2</th>\n",
       "      <td>16218.847862</td>\n",
       "      <td>13196</td>\n",
       "      <td>Buick</td>\n",
       "      <td>Century</td>\n",
       "      <td>Sedan 4D</td>\n",
       "      <td>Sedan</td>\n",
       "      <td>6</td>\n",
       "      <td>3.1</td>\n",
       "      <td>4</td>\n",
       "      <td>1</td>\n",
       "      <td>1</td>\n",
       "      <td>0</td>\n",
       "    </tr>\n",
       "    <tr>\n",
       "      <th>3</th>\n",
       "      <td>16336.913140</td>\n",
       "      <td>16342</td>\n",
       "      <td>Buick</td>\n",
       "      <td>Century</td>\n",
       "      <td>Sedan 4D</td>\n",
       "      <td>Sedan</td>\n",
       "      <td>6</td>\n",
       "      <td>3.1</td>\n",
       "      <td>4</td>\n",
       "      <td>1</td>\n",
       "      <td>0</td>\n",
       "      <td>0</td>\n",
       "    </tr>\n",
       "    <tr>\n",
       "      <th>4</th>\n",
       "      <td>16339.170324</td>\n",
       "      <td>19832</td>\n",
       "      <td>Buick</td>\n",
       "      <td>Century</td>\n",
       "      <td>Sedan 4D</td>\n",
       "      <td>Sedan</td>\n",
       "      <td>6</td>\n",
       "      <td>3.1</td>\n",
       "      <td>4</td>\n",
       "      <td>1</td>\n",
       "      <td>0</td>\n",
       "      <td>1</td>\n",
       "    </tr>\n",
       "  </tbody>\n",
       "</table>\n",
       "</div>"
      ],
      "text/plain": [
       "          Price  Mileage   Make    Model      Trim   Type  Cylinder  Liter  \\\n",
       "0  17314.103129     8221  Buick  Century  Sedan 4D  Sedan         6    3.1   \n",
       "1  17542.036083     9135  Buick  Century  Sedan 4D  Sedan         6    3.1   \n",
       "2  16218.847862    13196  Buick  Century  Sedan 4D  Sedan         6    3.1   \n",
       "3  16336.913140    16342  Buick  Century  Sedan 4D  Sedan         6    3.1   \n",
       "4  16339.170324    19832  Buick  Century  Sedan 4D  Sedan         6    3.1   \n",
       "\n",
       "   Doors  Cruise  Sound  Leather  \n",
       "0      4       1      1        1  \n",
       "1      4       1      1        0  \n",
       "2      4       1      1        0  \n",
       "3      4       1      0        0  \n",
       "4      4       1      0        1  "
      ]
     },
     "execution_count": 41,
     "metadata": {},
     "output_type": "execute_result"
    }
   ],
   "source": [
    "df.head()"
   ]
  },
  {
   "cell_type": "code",
   "execution_count": 42,
   "id": "e7d2d7fe",
   "metadata": {},
   "outputs": [],
   "source": [
    "from sklearn.model_selection import train_test_split"
   ]
  },
  {
   "cell_type": "code",
   "execution_count": 43,
   "id": "e6aaa328",
   "metadata": {},
   "outputs": [
    {
     "data": {
      "text/plain": [
       "Price       float64\n",
       "Mileage       int64\n",
       "Make         object\n",
       "Model        object\n",
       "Trim         object\n",
       "Type         object\n",
       "Cylinder      int64\n",
       "Liter       float64\n",
       "Doors         int64\n",
       "Cruise        int64\n",
       "Sound         int64\n",
       "Leather       int64\n",
       "dtype: object"
      ]
     },
     "execution_count": 43,
     "metadata": {},
     "output_type": "execute_result"
    }
   ],
   "source": [
    "df.dtypes"
   ]
  },
  {
   "cell_type": "code",
   "execution_count": 44,
   "id": "15426122",
   "metadata": {},
   "outputs": [
    {
     "data": {
      "text/plain": [
       "-0.1430505061979486"
      ]
     },
     "execution_count": 44,
     "metadata": {},
     "output_type": "execute_result"
    }
   ],
   "source": [
    "df['Mileage'].corr(df['Price'])"
   ]
  },
  {
   "cell_type": "code",
   "execution_count": 45,
   "id": "f846ffd7",
   "metadata": {},
   "outputs": [],
   "source": [
    "x=df[['Mileage']]\n"
   ]
  },
  {
   "cell_type": "code",
   "execution_count": 46,
   "id": "ef00d83f",
   "metadata": {},
   "outputs": [],
   "source": [
    "y=df[['Price']]"
   ]
  },
  {
   "cell_type": "code",
   "execution_count": 47,
   "id": "596099b8",
   "metadata": {},
   "outputs": [],
   "source": [
    "X_train, X_test, y_train, y_test = train_test_split(x, y, test_size=0.33, random_state=42)"
   ]
  },
  {
   "cell_type": "code",
   "execution_count": 48,
   "id": "eba3e67f",
   "metadata": {},
   "outputs": [],
   "source": [
    "reg=LinearRegression()"
   ]
  },
  {
   "cell_type": "code",
   "execution_count": 49,
   "id": "b8300fb5",
   "metadata": {},
   "outputs": [
    {
     "data": {
      "text/plain": [
       "LinearRegression()"
      ]
     },
     "execution_count": 49,
     "metadata": {},
     "output_type": "execute_result"
    }
   ],
   "source": [
    "reg.fit(X_train,y_train)"
   ]
  },
  {
   "cell_type": "code",
   "execution_count": 50,
   "id": "24eeae02",
   "metadata": {},
   "outputs": [],
   "source": [
    "y_pred_all=reg.predict(x)"
   ]
  },
  {
   "cell_type": "code",
   "execution_count": 51,
   "id": "fb95322e",
   "metadata": {},
   "outputs": [],
   "source": [
    "y_pred=reg.predict(X_test)"
   ]
  },
  {
   "cell_type": "code",
   "execution_count": null,
   "id": "7c447a3f",
   "metadata": {},
   "outputs": [],
   "source": []
  },
  {
   "cell_type": "markdown",
   "id": "57317850",
   "metadata": {},
   "source": [
    "# TASK 1"
   ]
  },
  {
   "cell_type": "code",
   "execution_count": 32,
   "id": "92e7f845",
   "metadata": {},
   "outputs": [],
   "source": [
    "## R2 SCORE"
   ]
  },
  {
   "cell_type": "code",
   "execution_count": 52,
   "id": "ac05b360",
   "metadata": {},
   "outputs": [
    {
     "name": "stdout",
     "output_type": "stream",
     "text": [
      "R2- SCORE : 0.028813014656118963\n"
     ]
    }
   ],
   "source": [
    "from sklearn import metrics # metrics will contain all the evaluation metrics\n",
    "print('R2- SCORE :', metrics.r2_score(y_test,y_pred))"
   ]
  },
  {
   "cell_type": "code",
   "execution_count": 53,
   "id": "47ad6a63",
   "metadata": {},
   "outputs": [
    {
     "data": {
      "image/png": "[encoded data removed]",
      "text/plain": [
       "<Figure size 432x288 with 1 Axes>"
      ]
     },
     "metadata": {
      "needs_background": "light"
     },
     "output_type": "display_data"
    }
   ],
   "source": [
    "plt.scatter(df['Mileage'], df['Price'], color='m')\n",
    "plt.plot(df['Mileage'],y_pred_all )\n",
    "plt.title('Mileage vs Price')\n",
    "plt.xlabel('Mileage')\n",
    "plt.ylabel('Price')\n",
    "plt.show()"
   ]
  },
  {
   "cell_type": "code",
   "execution_count": 58,
   "id": "9adb0fc0",
   "metadata": {},
   "outputs": [
    {
     "name": "stdout",
     "output_type": "stream",
     "text": [
      "Linear Regression Equation: y = [-0.157802] * x + [24513.21955896]\n"
     ]
    }
   ],
   "source": [
    "print('Linear Regression Equation: y = {} * x + {}'\n",
    "      .format(reg.coef_[0], reg.intercept_))"
   ]
  },
  {
   "cell_type": "markdown",
   "id": "c8b03b90",
   "metadata": {},
   "source": [
    "# TASK 2"
   ]
  },
  {
   "cell_type": "code",
   "execution_count": 59,
   "id": "e7b48e86",
   "metadata": {},
   "outputs": [
    {
     "data": {
      "text/plain": [
       "Index(['Price', 'Mileage', 'Make', 'Model', 'Trim', 'Type', 'Cylinder',\n",
       "       'Liter', 'Doors', 'Cruise', 'Sound', 'Leather'],\n",
       "      dtype='object')"
      ]
     },
     "execution_count": 59,
     "metadata": {},
     "output_type": "execute_result"
    }
   ],
   "source": [
    "df.columns"
   ]
  },
  {
   "cell_type": "code",
   "execution_count": 64,
   "id": "da983bcb",
   "metadata": {},
   "outputs": [],
   "source": [
    "x_all=df[[ 'Mileage', 'Cylinder',\n",
    "       'Liter', 'Doors', 'Cruise', 'Sound', 'Leather']]"
   ]
  },
  {
   "cell_type": "code",
   "execution_count": 65,
   "id": "0d9b2648",
   "metadata": {},
   "outputs": [],
   "source": [
    "X_train, X_test, y_train, y_test = train_test_split(x_all, y, test_size=0.33, random_state=42)"
   ]
  },
  {
   "cell_type": "code",
   "execution_count": 66,
   "id": "a6c74786",
   "metadata": {},
   "outputs": [],
   "source": [
    "reg_all=LinearRegression()"
   ]
  },
  {
   "cell_type": "code",
   "execution_count": 67,
   "id": "c70ebbef",
   "metadata": {},
   "outputs": [
    {
     "data": {
      "text/plain": [
       "LinearRegression()"
      ]
     },
     "execution_count": 67,
     "metadata": {},
     "output_type": "execute_result"
    }
   ],
   "source": [
    "reg_all.fit(X_train,y_train)"
   ]
  },
  {
   "cell_type": "code",
   "execution_count": 69,
   "id": "b555b497",
   "metadata": {},
   "outputs": [],
   "source": [
    "y_pred_all=reg_all.predict(X_test)"
   ]
  },
  {
   "cell_type": "code",
   "execution_count": 70,
   "id": "481425e2",
   "metadata": {},
   "outputs": [
    {
     "name": "stdout",
     "output_type": "stream",
     "text": [
      "R2- SCORE : 0.41527466563620685\n"
     ]
    }
   ],
   "source": [
    "print('R2- SCORE :', metrics.r2_score(y_test,y_pred_all))"
   ]
  },
  {
   "cell_type": "code",
   "execution_count": 71,
   "id": "a182c40d",
   "metadata": {},
   "outputs": [],
   "source": [
    "##  Taking all the given features the R2 score comes to be 0.4152 which suggest the equation is not a good fit for the model"
   ]
  },
  {
   "cell_type": "code",
   "execution_count": 77,
   "id": "b8f1bfcc",
   "metadata": {},
   "outputs": [
    {
     "data": {
      "text/plain": [
       "7"
      ]
     },
     "execution_count": 77,
     "metadata": {},
     "output_type": "execute_result"
    }
   ],
   "source": [
    "len(x_all.columns)"
   ]
  },
  {
   "cell_type": "code",
   "execution_count": 78,
   "id": "729943bb",
   "metadata": {},
   "outputs": [],
   "source": [
    "feat=[ 'Mileage', 'Cylinder',\n",
    "       'Liter', 'Doors', 'Cruise', 'Sound', 'Leather']"
   ]
  },
  {
   "cell_type": "code",
   "execution_count": null,
   "id": "e2fb73f6",
   "metadata": {},
   "outputs": [],
   "source": []
  },
  {
   "cell_type": "code",
   "execution_count": 79,
   "id": "f1c12b51",
   "metadata": {},
   "outputs": [],
   "source": [
    "def lin_reg_wrt_focus(feat, df, focus='Price'):\n",
    "    input_cols = df[feat]\n",
    "    focus_output = df[focus]\n",
    "    reg_sd = LinearRegression()\n",
    "    reg_sd.fit(input_cols, focus_output)\n",
    "    return reg_sd.score(input_cols, focus_output)"
   ]
  },
  {
   "cell_type": "code",
   "execution_count": 80,
   "id": "6c5c1f1e",
   "metadata": {},
   "outputs": [],
   "source": [
    "def get_combos(cols):\n",
    "    return [it.combinations(cols, n + 1) for n in range(len(cols))]"
   ]
  },
  {
   "cell_type": "code",
   "execution_count": 82,
   "id": "d7ee4607",
   "metadata": {},
   "outputs": [],
   "source": [
    "combos = get_combos(feat)"
   ]
  },
  {
   "cell_type": "code",
   "execution_count": 84,
   "id": "316e2e18",
   "metadata": {},
   "outputs": [],
   "source": [
    "def all_combo_scores(combos, df, focus='Price'):\n",
    "    combo_scores = {}\n",
    "    for m in range(len(list(combos))):\n",
    "        for n in list(combos[m]):\n",
    "            combo_scores[lin_reg_wrt_focus(list(n), df, focus)] = n\n",
    "    return combo_scores"
   ]
  },
  {
   "cell_type": "code",
   "execution_count": 85,
   "id": "550cefce",
   "metadata": {},
   "outputs": [
    {
     "data": {
      "text/plain": [
       "[(0.446264353672838,\n",
       "  ('Mileage', 'Cylinder', 'Liter', 'Doors', 'Cruise', 'Sound', 'Leather')),\n",
       " (0.44569092105870245,\n",
       "  ('Mileage', 'Cylinder', 'Doors', 'Cruise', 'Sound', 'Leather')),\n",
       " (0.437805741536638,\n",
       "  ('Mileage', 'Cylinder', 'Liter', 'Doors', 'Cruise', 'Leather')),\n",
       " (0.4369402151237246, ('Mileage', 'Cylinder', 'Doors', 'Cruise', 'Leather')),\n",
       " (0.43014148406475605,\n",
       "  ('Mileage', 'Cylinder', 'Liter', 'Cruise', 'Sound', 'Leather')),\n",
       " (0.43001820483252684, ('Mileage', 'Cylinder', 'Cruise', 'Sound', 'Leather')),\n",
       " (0.4265348637809261,\n",
       "  ('Cylinder', 'Liter', 'Doors', 'Cruise', 'Sound', 'Leather')),\n",
       " (0.4257681327974422, ('Cylinder', 'Doors', 'Cruise', 'Sound', 'Leather')),\n",
       " (0.42482840454267856,\n",
       "  ('Mileage', 'Liter', 'Doors', 'Cruise', 'Sound', 'Leather')),\n",
       " (0.42441824017998775,\n",
       "  ('Mileage', 'Cylinder', 'Liter', 'Doors', 'Cruise', 'Sound')),\n",
       " (0.42409748258510405, ('Mileage', 'Cylinder', 'Doors', 'Cruise', 'Sound')),\n",
       " (0.4225307670398466, ('Mileage', 'Cylinder', 'Liter', 'Cruise', 'Leather')),\n",
       " (0.4225074214774762, ('Mileage', 'Cylinder', 'Cruise', 'Leather')),\n",
       " (0.4196580477703242, ('Mileage', 'Cylinder', 'Liter', 'Doors', 'Cruise')),\n",
       " (0.41914964510731756, ('Mileage', 'Cylinder', 'Doors', 'Cruise')),\n",
       " (0.4188394218057132, ('Cylinder', 'Liter', 'Doors', 'Cruise', 'Leather')),\n",
       " (0.417760273701972, ('Cylinder', 'Doors', 'Cruise', 'Leather')),\n",
       " (0.41650804904235117, ('Mileage', 'Liter', 'Cruise', 'Sound', 'Leather')),\n",
       " (0.4140092231630349, ('Mileage', 'Liter', 'Doors', 'Cruise', 'Leather')),\n",
       " (0.4107029526441046, ('Cylinder', 'Liter', 'Cruise', 'Sound', 'Leather')),\n",
       " (0.4106549415858882, ('Cylinder', 'Cruise', 'Sound', 'Leather')),\n",
       " (0.40678789687026895, ('Mileage', 'Liter', 'Cruise', 'Leather')),\n",
       " (0.40654915865835206, ('Mileage', 'Cylinder', 'Liter', 'Cruise', 'Sound')),\n",
       " (0.4061644982625815, ('Mileage', 'Cylinder', 'Cruise', 'Sound')),\n",
       " (0.4050927515057854, ('Cylinder', 'Liter', 'Doors', 'Cruise', 'Sound')),\n",
       " (0.40462307098659855, ('Cylinder', 'Doors', 'Cruise', 'Sound')),\n",
       " (0.40380376425767606, ('Cylinder', 'Liter', 'Cruise', 'Leather')),\n",
       " (0.40380272693971564, ('Cylinder', 'Cruise', 'Leather')),\n",
       " (0.40346337208358085, ('Liter', 'Doors', 'Cruise', 'Sound', 'Leather')),\n",
       " (0.4031213170211536, ('Mileage', 'Liter', 'Doors', 'Cruise', 'Sound')),\n",
       " (0.4025842618924307, ('Mileage', 'Cylinder', 'Liter', 'Cruise')),\n",
       " (0.4023745860316019, ('Mileage', 'Cylinder', 'Cruise')),\n",
       " (0.4008748693270304, ('Cylinder', 'Liter', 'Doors', 'Cruise')),\n",
       " (0.4001989079545567, ('Cylinder', 'Doors', 'Cruise')),\n",
       " (0.39653266980131807, ('Mileage', 'Liter', 'Doors', 'Cruise')),\n",
       " (0.39564260736568424, ('Liter', 'Cruise', 'Sound', 'Leather')),\n",
       " (0.39346849142215845, ('Mileage', 'Liter', 'Cruise', 'Sound')),\n",
       " (0.39345887351036213, ('Liter', 'Doors', 'Cruise', 'Leather')),\n",
       " (0.38792398390551586, ('Mileage', 'Liter', 'Cruise')),\n",
       " (0.3875431216736017, ('Cylinder', 'Liter', 'Cruise', 'Sound')),\n",
       " (0.3873058022296456, ('Cylinder', 'Cruise', 'Sound')),\n",
       " (0.38665505937731115, ('Liter', 'Cruise', 'Leather')),\n",
       " (0.3840622008524506, ('Cylinder', 'Liter', 'Cruise')),\n",
       " (0.3839491324027342, ('Cylinder', 'Cruise')),\n",
       " (0.3827150450021579,\n",
       "  ('Mileage', 'Cylinder', 'Liter', 'Doors', 'Sound', 'Leather')),\n",
       " (0.38258521179336924, ('Mileage', 'Cylinder', 'Doors', 'Sound', 'Leather')),\n",
       " (0.3821808777658823, ('Liter', 'Doors', 'Cruise', 'Sound')),\n",
       " (0.3761916805347969, ('Liter', 'Doors', 'Cruise')),\n",
       " (0.3730745596141458, ('Liter', 'Cruise', 'Sound')),\n",
       " (0.37136690890240676, ('Mileage', 'Cylinder', 'Liter', 'Doors', 'Leather')),\n",
       " (0.37133199838451947, ('Mileage', 'Cylinder', 'Doors', 'Leather')),\n",
       " (0.3680458490296844, ('Liter', 'Cruise')),\n",
       " (0.36771522262682865, ('Mileage', 'Cylinder', 'Liter', 'Doors', 'Sound')),\n",
       " (0.3674991296973681, ('Mileage', 'Cylinder', 'Doors', 'Sound')),\n",
       " (0.365294232839972, ('Mileage', 'Cylinder', 'Liter', 'Sound', 'Leather')),\n",
       " (0.36516944395094464, ('Cylinder', 'Liter', 'Doors', 'Sound', 'Leather')),\n",
       " (0.36511700356207033, ('Cylinder', 'Doors', 'Sound', 'Leather')),\n",
       " (0.36329101174690714, ('Mileage', 'Liter', 'Doors', 'Sound', 'Leather')),\n",
       " (0.3627841037859246, ('Mileage', 'Cylinder', 'Sound', 'Leather')),\n",
       " (0.3601250633027092, ('Mileage', 'Cylinder', 'Liter', 'Doors')),\n",
       " (0.3600299189649303, ('Mileage', 'Cylinder', 'Doors')),\n",
       " (0.354940443055751, ('Mileage', 'Cylinder', 'Liter', 'Leather')),\n",
       " (0.354706889409253, ('Cylinder', 'Liter', 'Doors', 'Leather')),\n",
       " (0.3547026130008998, ('Cylinder', 'Doors', 'Leather')),\n",
       " (0.35363153818528126, ('Mileage', 'Liter', 'Sound', 'Leather')),\n",
       " (0.35303578931823953, ('Mileage', 'Cylinder', 'Leather')),\n",
       " (0.35038121816111223, ('Cylinder', 'Liter', 'Doors', 'Sound')),\n",
       " (0.3502699330133767, ('Cylinder', 'Doors', 'Sound')),\n",
       " (0.34940517971815865, ('Mileage', 'Liter', 'Doors', 'Leather')),\n",
       " (0.34885465224422074, ('Mileage', 'Cylinder', 'Liter', 'Sound')),\n",
       " (0.34830222786670784, ('Mileage', 'Liter', 'Doors', 'Sound')),\n",
       " (0.34805583937456297, ('Cylinder', 'Liter', 'Sound', 'Leather')),\n",
       " (0.345985332754168, ('Cylinder', 'Sound', 'Leather')),\n",
       " (0.34579303945195394, ('Mileage', 'Cylinder', 'Sound')),\n",
       " (0.3442397580756411, ('Liter', 'Doors', 'Sound', 'Leather')),\n",
       " (0.3434954780689595, ('Cylinder', 'Liter', 'Doors')),\n",
       " (0.343460536583038, ('Cylinder', 'Doors')),\n",
       " (0.34228021178720824, ('Mileage', 'Cylinder', 'Liter')),\n",
       " (0.34105691618639966, ('Mileage', 'Liter', 'Leather')),\n",
       " (0.33982070826367505, ('Mileage', 'Cylinder')),\n",
       " (0.33859102766485805, ('Mileage', 'Liter', 'Doors')),\n",
       " (0.33853269361625415, ('Cylinder', 'Liter', 'Leather')),\n",
       " (0.3375252452641956, ('Mileage', 'Liter', 'Sound')),\n",
       " (0.33698000644980597, ('Cylinder', 'Leather')),\n",
       " (0.3351140707646345, ('Liter', 'Sound', 'Leather')),\n",
       " (0.3318486045315714, ('Cylinder', 'Liter', 'Sound')),\n",
       " (0.3312844538529036, ('Liter', 'Doors', 'Leather')),\n",
       " (0.32947196699054004, ('Liter', 'Doors', 'Sound')),\n",
       " (0.32927527347959384, ('Cylinder', 'Sound')),\n",
       " (0.3291279066854156, ('Mileage', 'Liter')),\n",
       " (0.3259155160156657, ('Cylinder', 'Liter')),\n",
       " (0.32385903759512247, ('Cylinder',)),\n",
       " (0.32337917189904186, ('Liter', 'Leather')),\n",
       " (0.3205156407766834, ('Liter', 'Doors')),\n",
       " (0.31926427639502886, ('Liter', 'Sound')),\n",
       " (0.31152674427904514, ('Liter',)),\n",
       " (0.27282594767567814, ('Mileage', 'Doors', 'Cruise', 'Sound', 'Leather')),\n",
       " (0.2594013856567562, ('Mileage', 'Cruise', 'Sound', 'Leather')),\n",
       " (0.2566547812611919, ('Mileage', 'Doors', 'Cruise', 'Leather')),\n",
       " (0.2474491349580753, ('Doors', 'Cruise', 'Sound', 'Leather')),\n",
       " (0.24484643441472975, ('Mileage', 'Cruise', 'Leather')),\n",
       " (0.23464406340531807, ('Cruise', 'Sound', 'Leather')),\n",
       " (0.23336920288580454, ('Mileage', 'Doors', 'Cruise', 'Sound')),\n",
       " (0.23229120295179528, ('Doors', 'Cruise', 'Leather')),\n",
       " (0.2239031407636466, ('Mileage', 'Doors', 'Cruise')),\n",
       " (0.2210042052179847, ('Cruise', 'Leather')),\n",
       " (0.21721656906779274, ('Mileage', 'Cruise', 'Sound')),\n",
       " (0.2093138558315859, ('Mileage', 'Cruise')),\n",
       " (0.2083536888853531, ('Doors', 'Cruise', 'Sound')),\n",
       " (0.1996382468921617, ('Doors', 'Cruise')),\n",
       " (0.19288948066869627, ('Cruise', 'Sound')),\n",
       " (0.1856330092969275, ('Cruise',)),\n",
       " (0.08933709379370725, ('Mileage', 'Doors', 'Sound', 'Leather')),\n",
       " (0.06965940622436517, ('Mileage', 'Sound', 'Leather')),\n",
       " (0.06687313316188848, ('Doors', 'Sound', 'Leather')),\n",
       " (0.06256392121987708, ('Mileage', 'Doors', 'Leather')),\n",
       " (0.05925054392042661, ('Mileage', 'Doors', 'Sound')),\n",
       " (0.04795369092082746, ('Sound', 'Leather')),\n",
       " (0.04521956340886857, ('Mileage', 'Leather')),\n",
       " (0.04141817346866039, ('Doors', 'Leather')),\n",
       " (0.04039914867118721, ('Mileage', 'Doors')),\n",
       " (0.0370162877090342, ('Doors', 'Sound')),\n",
       " (0.036881215967350056, ('Mileage', 'Sound')),\n",
       " (0.024710851264124534, ('Leather',)),\n",
       " (0.02046344732348926, ('Mileage',)),\n",
       " (0.019251466591467037, ('Doors',)),\n",
       " (0.015462387624189389, ('Sound',))]"
      ]
     },
     "execution_count": 85,
     "metadata": {},
     "output_type": "execute_result"
    }
   ],
   "source": [
    "combo_scores = all_combo_scores(combos, df)\n",
    "sorted(combo_scores.items(), key=lambda c: c[0], reverse=True)"
   ]
  },
  {
   "cell_type": "code",
   "execution_count": null,
   "id": "039a51aa",
   "metadata": {},
   "outputs": [],
   "source": [
    "## The combination of features MILEAGE,CYLINDER,LITER,DOORS,CRUISE,SOUND,LEATHER gives the best score"
   ]
  }
 ],
 "metadata": {
  "kernelspec": {
   "display_name": "Python 3 (ipykernel)",
   "language": "python",
   "name": "python3"
  },
  "language_info": {
   "codemirror_mode": {
    "name": "ipython",
    "version": 3
   },
   "file_extension": ".py",
   "mimetype": "text/x-python",
   "name": "python",
   "nbconvert_exporter": "python",
   "pygments_lexer": "ipython3",
   "version": "3.9.12"
  }
 },
 "nbformat": 4,
 "nbformat_minor": 5
}
